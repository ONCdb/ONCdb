{
 "cells": [
  {
   "cell_type": "code",
   "execution_count": 41,
   "metadata": {
    "collapsed": true
   },
   "outputs": [],
   "source": [
    "%matplotlib inline\n",
    "\n",
    "import numpy as np\n",
    "import matplotlib.pyplot as plt\n",
    "import pandas as pd\n",
    "import sys\n",
    "\n",
    "from scipy.stats import norm\n",
    "\n",
    "from astropy.coordinates import SkyCoord\n",
    "from astropy.coordinates import ICRS, Galactic, FK4, FK5\n",
    "from astropy.coordinates import Angle, Latitude, Longitude\n",
    "import astropy.units as u\n",
    "import build_catalog as bc"
   ]
  },
  {
   "cell_type": "markdown",
   "metadata": {},
   "source": [
    "# ONCdb Recipe\n",
    "\n",
    "Here are step-by-step instructions on how to generate the ONCdb from VizieR catalogs."
   ]
  },
  {
   "cell_type": "markdown",
   "metadata": {},
   "source": [
    "## Step 1: Ingest ACS Catalog\n",
    "\n",
    "Download the initial data from the Robberto et al. (2013) HST Treasury Program on the ONC from VizieR (http://vizier.u-strasbg.fr/viz-bin/asu-tsv).\n",
    "\n",
    "Save a tab-separated file as `ONCdb/raw_data/viz_acs.tsv`. Then comment out the line with the units and the line with the dashes just above the data."
   ]
  },
  {
   "cell_type": "code",
   "execution_count": 33,
   "metadata": {
    "collapsed": false,
    "scrolled": true
   },
   "outputs": [
    {
     "name": "stdout",
     "output_type": "stream",
     "text": [
      "ACS has 3399 objects\n"
     ]
    }
   ],
   "source": [
    "# Set path to the raw data\n",
    "root = 'raw_data/'\n",
    "\n",
    "# Save catalog info as a tuple -- ('catname', 'filename', 'catID column name')\n",
    "cat_info = ('ACS', 'viz_acs.tsv', 'ONCacs')\n",
    "\n",
    "# Read in the TSV file and rename some columns\n",
    "acs = pd.read_csv(root+cat_info[1], sep='\\t', comment='#', engine='python')\n",
    "acs = acs[[cat_info[2],'_RAJ2000','_DEJ2000']].groupby(cat_info[2]).agg(lambda x: np.mean(x))\n",
    "acs.insert(0,'dec_corr', acs['_DEJ2000'])\n",
    "acs.insert(0,'ra_corr', acs['_RAJ2000'])\n",
    "acs.insert(0,'catID', acs.index)\n",
    "acs.insert(0,'catname', cat_info[0])\n",
    "acs.insert(0,'oncflag', '')\n",
    "acs.insert(0,'oncID', np.nan)\n",
    "acs = acs.reset_index(drop=True)\n",
    "\n",
    "print('ACS has', len(acs), 'objects')"
   ]
  },
  {
   "cell_type": "markdown",
   "metadata": {},
   "source": [
    "## Step 2: Generate initial matrix of pairwise distances"
   ]
  },
  {
   "cell_type": "code",
   "execution_count": 34,
   "metadata": {
    "collapsed": false
   },
   "outputs": [
    {
     "name": "stdout",
     "output_type": "stream",
     "text": [
      "Measuring pairwise distances...\n",
      "loading... 100.0%\n",
      "\n",
      "Grouping sources...\n",
      "loading... 100.0%\n",
      "\n",
      "3396 unique sources\n",
      "Saved to ONCdb_pairwise_distances.tsv\n"
     ]
    }
   ],
   "source": [
    "# Get sky coordinates from RA and Dec\n",
    "c_acs = SkyCoord(acs['_RAJ2000'], acs['_DEJ2000'], unit='degree')\n",
    "\n",
    "# Generate a pandas data frame\n",
    "build_dist = pd.DataFrame()\n",
    "print(\"Measuring pairwise distances...\")\n",
    "for k in range(len(c_acs)):\n",
    "    sep = c_acs.separation(c_acs[k]).arcsecond\n",
    "    build_dist.loc[:,k] = sep\n",
    "    progress_meter(k*100./len(c_acs))\n",
    "\n",
    "print('\\n')\n",
    "\n",
    "# Add the distances to each row\n",
    "onc_build = pd.concat([acs, build_dist], axis=1)\n",
    "onc_build.columns = onc_build.columns.astype(str)\n",
    "onc_build.index = onc_build.index.astype(str)\n",
    "\n",
    "# Group the sources by the specified critical distance\n",
    "onc_build = group_sources(onc_build, dist_crit)\n",
    "\n",
    "print(len(onc_build['oncID'].value_counts()), 'unique sources')\n",
    "\n",
    "# Save it to file\n",
    "onc_build_name = 'ONCdb_pairwise_distances.tsv'\n",
    "onc_build.to_csv(root + onc_build_name, sep='\\t', index=False)\n",
    "\n",
    "print('Saved to', onc_build_name)"
   ]
  },
  {
   "cell_type": "markdown",
   "metadata": {},
   "source": [
    "## Step 3: Add additional catalogs\n",
    "\n",
    "Now we can add additional catalogs by downloading the data from VizieR as a tab-separated ascii file."
   ]
  },
  {
   "cell_type": "code",
   "execution_count": 37,
   "metadata": {
    "collapsed": false
   },
   "outputs": [
    {
     "name": "stdout",
     "output_type": "stream",
     "text": [
      "new catalog WFPC2 has 1488 objects\n",
      "existing oncdb has 3399 objects\n"
     ]
    }
   ],
   "source": [
    "# export directly from Viz as 'tab-separated values' (tsv)\n",
    "# need to comment out the two lines between the header and the data (comment = #)\n",
    "\n",
    "# there is a way to use astroquery to access Viz tables directly\n",
    "# however it's a bit slow and requires internet connection\n",
    "\n",
    "# Robberto 2013, HST Treasury Program on the ONC\n",
    "# WFPC2 is J/ApJS/207/10/table6\n",
    "# NICMOS is J/ApJS/207/10/table7\n",
    "\n",
    "# filename of existing pairwise dist matrix (tsv)\n",
    "onc_ex_name = onc_up_name = onc_build_name\n",
    "\n",
    "# catalog info as a tuple -- ('catname', 'filename', 'catID column name')\n",
    "cat_info = ('WFPC2', 'viz_wfpc2.tsv', 'ONCpc2')\n",
    "\n",
    "# radius for xmatch (arcsec), pre- and post-shift\n",
    "# pre should be relatively generous in case of offset\n",
    "dist_crit_pre = 1.\n",
    "dist_crit_post = 0.25\n",
    "\n",
    "# for normal Viz catalogs\n",
    "new_cat = pd.read_csv(root + cat_info[1], sep='\\t', comment='#', engine='python')\n",
    "\n",
    "# compress multiple observations of a single object in the catalog\n",
    "new_cat = new_cat[[cat_info[2],'_RAJ2000','_DEJ2000']].groupby(cat_info[2]).agg(lambda x: np.mean(x))\n",
    "\n",
    "# insert columns for later\n",
    "new_cat.insert(0,'dec_corr', np.nan)\n",
    "new_cat.insert(0,'ra_corr', np.nan)\n",
    "\n",
    "new_cat.insert(0,'catID', new_cat.index)\n",
    "new_cat.insert(0,'catname', cat_info[0])\n",
    "new_cat.insert(0,'oncflag', '')\n",
    "new_cat.insert(0,'oncID', np.nan)\n",
    "\n",
    "new_cat = new_cat.reset_index(drop=True)\n",
    "\n",
    "print('new catalog', cat_info[0], 'has', len(new_cat), 'objects')\n",
    "\n",
    "onc_ex = pd.read_csv(root + onc_ex_name, sep='\\t', engine='python')\n",
    "\n",
    "print('existing oncdb has', len(onc_ex), 'objects')"
   ]
  },
  {
   "cell_type": "code",
   "execution_count": 38,
   "metadata": {
    "collapsed": false
   },
   "outputs": [
    {
     "name": "stdout",
     "output_type": "stream",
     "text": [
      "loading... 99.9%\n",
      "\n",
      "Grouping sources...\n",
      "loading... 100.0%\n",
      "\n"
     ]
    }
   ],
   "source": [
    "c_new = SkyCoord(new_cat['_RAJ2000'], new_cat['_DEJ2000'], unit='degree')\n",
    "c_onc = SkyCoord(onc_ex['_RAJ2000'], onc_ex['_DEJ2000'], unit='degree')\n",
    "\n",
    "# clear the flag column\n",
    "onc_ex.loc[:,'oncflag'] = ''\n",
    "new_cat.loc[:,'oncflag'] = ''\n",
    "\n",
    "onc_iv = get_pw_dists(c_new, c_onc, new_cat, onc_ex)\n",
    "\n",
    "onc_iv = group_sources(onc_iv, dist_crit_pre)"
   ]
  },
  {
   "cell_type": "code",
   "execution_count": 39,
   "metadata": {
    "collapsed": false
   },
   "outputs": [
    {
     "name": "stdout",
     "output_type": "stream",
     "text": [
      "3342 unique sources\n"
     ]
    }
   ],
   "source": [
    "print(len(onc_iv['oncID'].value_counts()), 'unique sources')"
   ]
  },
  {
   "cell_type": "code",
   "execution_count": 40,
   "metadata": {
    "collapsed": false
   },
   "outputs": [
    {
     "name": "stdout",
     "output_type": "stream",
     "text": [
      "1298 one-to-one matches found\n",
      "loading... 99.9%\n",
      "\n",
      "Delta RA (arcsec): -0.00892258995075\n",
      "Delta DEC (arcsec): -0.0687896791834\n"
     ]
    }
   ],
   "source": [
    "# Calculate offsets for catclog correction\n",
    "delta_ra, delta_dec, mu_ra, mu_dec, std_ra, std_dec = find_offsets(onc_iv, cat_info[0], '_RAJ2000', '_DEJ2000')"
   ]
  },
  {
   "cell_type": "code",
   "execution_count": null,
   "metadata": {
    "collapsed": true
   },
   "outputs": [],
   "source": []
  }
 ],
 "metadata": {
  "anaconda-cloud": {},
  "kernelspec": {
   "display_name": "Astroconda",
   "language": "python",
   "name": "astroconda_kernel"
  },
  "language_info": {
   "codemirror_mode": {
    "name": "ipython",
    "version": 3
   },
   "file_extension": ".py",
   "mimetype": "text/x-python",
   "name": "python",
   "nbconvert_exporter": "python",
   "pygments_lexer": "ipython3",
   "version": "3.5.2"
  }
 },
 "nbformat": 4,
 "nbformat_minor": 1
}
