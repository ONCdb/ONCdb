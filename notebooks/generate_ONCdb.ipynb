{
 "cells": [
  {
   "cell_type": "code",
   "execution_count": 26,
   "metadata": {
    "collapsed": false
   },
   "outputs": [],
   "source": [
    "%matplotlib inline\n",
    "import ONCdb\n",
    "import os\n",
    "from ONCdb import make_onc as mo\n",
    "from astrodbkit import astrodb, astrocat\n",
    "DIR_PATH = os.path.dirname(os.path.realpath(ONCdb.__file__))"
   ]
  },
  {
   "cell_type": "markdown",
   "metadata": {},
   "source": [
    "# Make the ONCdb\n",
    "\n",
    "Here are step-by-step instructions on how to generate the ONCdb from VizieR catalogs."
   ]
  },
  {
   "cell_type": "markdown",
   "metadata": {},
   "source": [
    "### Step 1: Initialize the database and ingest the raw data"
   ]
  },
  {
   "cell_type": "code",
   "execution_count": 51,
   "metadata": {
    "collapsed": true
   },
   "outputs": [],
   "source": [
    "# Initialize a database\n",
    "onc = astrocat.Catalog()"
   ]
  },
  {
   "cell_type": "code",
   "execution_count": 52,
   "metadata": {
    "collapsed": false
   },
   "outputs": [
    {
     "name": "stdout",
     "output_type": "stream",
     "text": [
      "Ingesting 10 rows from ACS catalog...\n",
      "   source_id    ra_corr  dec_corr   catID   _RAJ2000  _DEJ2000  ONCacs  N  \\\n",
      "0        NaN  83.541204 -5.373961   ACS_1  83.541204 -5.373961       1  1   \n",
      "1        NaN  83.542708 -5.364525   ACS_2  83.542708 -5.364525       2  1   \n",
      "2        NaN  83.546296 -5.381794   ACS_3  83.546296 -5.381794       3  1   \n",
      "3        NaN  83.546446 -5.344578   ACS_4  83.546446 -5.344578       4  1   \n",
      "4        NaN  83.548421 -5.369708   ACS_5  83.548421 -5.369708       5  1   \n",
      "5        NaN  83.548842 -5.335642   ACS_6  83.548842 -5.335642       6  1   \n",
      "6        NaN  83.550067 -5.411064   ACS_7  83.550067 -5.411064       7  1   \n",
      "7        NaN  83.550104 -5.405411   ACS_8  83.550104 -5.405411       8  1   \n",
      "8        NaN  83.550262 -5.370828   ACS_9  83.550262 -5.370828       9  1   \n",
      "9        NaN  83.550942 -5.419003  ACS_10  83.550942 -5.419003      10  1   \n",
      "\n",
      "   NIC       RAJ2000         ...           e_F658N f_F658N    F775W  e_F775W  \\\n",
      "0    0  05 34 09.889         ...           22.1858       0  21.4007   0.0182   \n",
      "1    0  05 34 10.250         ...           22.3662       0  23.0738   0.1010   \n",
      "2    0  05 34 11.111         ...                         3  13.1155            \n",
      "3    0  05 34 11.147         ...           22.5356       0  22.4234   0.0338   \n",
      "4    0  05 34 11.621         ...            0.1018       1  21.9795   0.0225   \n",
      "5    0  05 34 11.722         ...           22.4685       0  22.8860   0.0333   \n",
      "6    0  05 34 12.016         ...           21.9786       0  23.2261   0.1432   \n",
      "7    0  05 34 12.025         ...            0.0141       1  15.7541   0.0019   \n",
      "8    0  05 34 12.063         ...           22.3218       0  21.5570   0.0192   \n",
      "9    0  05 34 12.226         ...           21.8584       0           24.9370   \n",
      "\n",
      "   f_F775W   F850LP e_F850LP  f_F850LP type                  Obs  \n",
      "0        1  20.4673   0.0185         1    2  2005-03-31T06:44:32  \n",
      "1        1  21.7399   0.0658         1    1  2005-03-31T06:44:32  \n",
      "2        3  12.1555                  3    1  2005-03-31T06:44:32  \n",
      "3        1  21.4191   0.0419         1    1  2005-03-31T06:44:32  \n",
      "4        1  20.4511   0.0186         1    1  2005-03-31T06:44:32  \n",
      "5        1  21.1893   0.0351         1    1  2005-03-31T06:44:32  \n",
      "6        1  22.4958   0.0612         1    1  2005-04-07T06:40:27  \n",
      "7        2  14.7022   0.0021         2    1  2005-04-07T06:40:27  \n",
      "8        1  20.3896   0.0215         1    1  2005-03-31T06:44:32  \n",
      "9        0  21.7234   0.0428         1    7  2005-04-07T06:40:27  \n",
      "\n",
      "[10 rows x 29 columns]\n"
     ]
    }
   ],
   "source": [
    "# Ingest a VizieR catalog by supplying a path, catalog name, and column name of a unique identifier \n",
    "onc.ingest_data(DIR_PATH+'/raw_data/viz_acs.tsv', 'ACS', 'ONCacs', count=10)\n",
    "\n",
    "# The raw dataset is stored as an attribute\n",
    "print(onc.ACS)"
   ]
  },
  {
   "cell_type": "code",
   "execution_count": 53,
   "metadata": {
    "collapsed": false
   },
   "outputs": [
    {
     "name": "stdout",
     "output_type": "stream",
     "text": [
      "Ingesting 10 rows from WFPC2 catalog...\n",
      "   source_id    ra_corr  dec_corr     catID   _RAJ2000  _DEJ2000  ONCpc2  N  \\\n",
      "0        NaN  83.562867 -5.383325   WFPC2_1  83.562867 -5.383325       1  1   \n",
      "1        NaN  83.568987 -5.382300   WFPC2_2  83.568987 -5.382300       2  1   \n",
      "2        NaN  83.571933 -5.376869   WFPC2_3  83.571933 -5.376869       3  1   \n",
      "3        NaN  83.572079 -5.379994   WFPC2_4  83.572079 -5.379994       4  1   \n",
      "4        NaN  83.593296 -5.374150   WFPC2_5  83.593296 -5.374150       5  1   \n",
      "5        NaN  83.576562 -5.381911   WFPC2_6  83.576562 -5.381911       6  1   \n",
      "6        NaN  83.586642 -5.391425   WFPC2_7  83.586642 -5.391425       7  2   \n",
      "7        NaN  83.586642 -5.391425   WFPC2_8  83.586642 -5.391425       7  2   \n",
      "8        NaN  83.603204 -5.369567   WFPC2_9  83.603204 -5.369567       9  1   \n",
      "9        NaN  83.610421 -5.389997  WFPC2_10  83.610421 -5.389997      10  1   \n",
      "\n",
      "   NIC       RAJ2000   ...    f_F336W    F439W  e_F439W  f_F439W    F656N  \\\n",
      "0    0  05 34 15.088   ...          1  20.7107   0.1641        1  17.0872   \n",
      "1    0  05 34 16.557   ...          0           21.5216        2            \n",
      "2    0  05 34 17.264   ...          1  20.6517   0.1028        1  17.2461   \n",
      "3    0  05 34 17.299   ...          1  21.4937   0.2097        1  16.9737   \n",
      "4    1  05 34 22.391   ...          1  21.2905   0.1492        1  17.1299   \n",
      "5    0  05 34 18.375   ...          2  22.0014   0.2726        1  18.5023   \n",
      "6    0  05 34 20.794   ...          1  18.0673   0.0248        1  14.5985   \n",
      "7    0  05 34 20.794   ...          1  19.0211   0.0370        1  15.3076   \n",
      "8    1  05 34 24.769   ...          1  18.0260   0.0237        1  14.7178   \n",
      "9    0  05 34 26.501   ...          1  19.6294   0.0475        1  15.3970   \n",
      "\n",
      "   e_F656N  f_F656N    F814W  e_F814W  f_F814W  \n",
      "0   0.0385        1  16.2458   0.0193        1  \n",
      "1  19.3995        2  18.6440   0.0772        1  \n",
      "2   0.0469        1  16.4892   0.0214        1  \n",
      "3   0.0429        1  16.0760   0.0175        1  \n",
      "4   0.0643        1  15.5635   0.0147        1  \n",
      "5   0.0973        1  17.5885   0.0432        1  \n",
      "6   0.0139        1  14.6187   0.0119        1  \n",
      "7   0.0192        1  14.7453   0.0124        1  \n",
      "8   0.0158        1  14.1085   0.0114        1  \n",
      "9   0.0205        1  14.2740   0.0115        1  \n",
      "\n",
      "[10 rows x 23 columns]\n"
     ]
    }
   ],
   "source": [
    "# Add another one! (This is a test file with a fake match of the ACS catalog)\n",
    "onc.ingest_data(DIR_PATH+'/raw_data/viz_wfpc2.tsv', 'WFPC2', 'ONCpc2', count=10)\n",
    "print(onc.WFPC2)"
   ]
  },
  {
   "cell_type": "markdown",
   "metadata": {},
   "source": [
    "### Step 2: Cross-match the sources"
   ]
  },
  {
   "cell_type": "code",
   "execution_count": 54,
   "metadata": {
    "collapsed": false
   },
   "outputs": [],
   "source": [
    "# Now let's group the sources by some critical distance in arcseconds \n",
    "# and assign IDs for our new custom database sources\n",
    "onc.group_sources()"
   ]
  },
  {
   "cell_type": "code",
   "execution_count": 55,
   "metadata": {
    "collapsed": false
   },
   "outputs": [
    {
     "name": "stdout",
     "output_type": "stream",
     "text": [
      "2018-01-25 15:06:01: Database created\n",
      "2018-01-25 15:06:02: Catalog ACS ingested.\n",
      "2018-01-25 15:06:02: Catalog WFPC2 ingested.\n",
      "2018-01-25 15:06:03: Catalog grouped with radius 0.0001 arcsec.\n"
     ]
    }
   ],
   "source": [
    "# Summary of what we've done\n",
    "onc.info"
   ]
  },
  {
   "cell_type": "code",
   "execution_count": 56,
   "metadata": {
    "collapsed": false
   },
   "outputs": [
    {
     "data": {
      "text/html": [
       "<div>\n",
       "<style scoped>\n",
       "    .dataframe tbody tr th:only-of-type {\n",
       "        vertical-align: middle;\n",
       "    }\n",
       "\n",
       "    .dataframe tbody tr th {\n",
       "        vertical-align: top;\n",
       "    }\n",
       "\n",
       "    .dataframe thead th {\n",
       "        text-align: right;\n",
       "    }\n",
       "</style>\n",
       "<table border=\"1\" class=\"dataframe\">\n",
       "  <thead>\n",
       "    <tr style=\"text-align: right;\">\n",
       "      <th></th>\n",
       "      <th>id</th>\n",
       "      <th>ra</th>\n",
       "      <th>dec</th>\n",
       "      <th>flag</th>\n",
       "    </tr>\n",
       "  </thead>\n",
       "  <tbody>\n",
       "    <tr>\n",
       "      <th>0</th>\n",
       "      <td>1</td>\n",
       "      <td>83.562867</td>\n",
       "      <td>-5.383325</td>\n",
       "      <td></td>\n",
       "    </tr>\n",
       "    <tr>\n",
       "      <th>1</th>\n",
       "      <td>2</td>\n",
       "      <td>83.568987</td>\n",
       "      <td>-5.382300</td>\n",
       "      <td></td>\n",
       "    </tr>\n",
       "    <tr>\n",
       "      <th>2</th>\n",
       "      <td>3</td>\n",
       "      <td>83.571933</td>\n",
       "      <td>-5.376869</td>\n",
       "      <td></td>\n",
       "    </tr>\n",
       "    <tr>\n",
       "      <th>3</th>\n",
       "      <td>4</td>\n",
       "      <td>83.572079</td>\n",
       "      <td>-5.379994</td>\n",
       "      <td></td>\n",
       "    </tr>\n",
       "    <tr>\n",
       "      <th>4</th>\n",
       "      <td>5</td>\n",
       "      <td>83.593296</td>\n",
       "      <td>-5.374150</td>\n",
       "      <td></td>\n",
       "    </tr>\n",
       "    <tr>\n",
       "      <th>5</th>\n",
       "      <td>6</td>\n",
       "      <td>83.576562</td>\n",
       "      <td>-5.381911</td>\n",
       "      <td></td>\n",
       "    </tr>\n",
       "    <tr>\n",
       "      <th>6</th>\n",
       "      <td>7</td>\n",
       "      <td>83.586642</td>\n",
       "      <td>-5.391425</td>\n",
       "      <td>d2</td>\n",
       "    </tr>\n",
       "    <tr>\n",
       "      <th>7</th>\n",
       "      <td>8</td>\n",
       "      <td>83.603204</td>\n",
       "      <td>-5.369567</td>\n",
       "      <td></td>\n",
       "    </tr>\n",
       "    <tr>\n",
       "      <th>8</th>\n",
       "      <td>9</td>\n",
       "      <td>83.610421</td>\n",
       "      <td>-5.389997</td>\n",
       "      <td></td>\n",
       "    </tr>\n",
       "    <tr>\n",
       "      <th>9</th>\n",
       "      <td>10</td>\n",
       "      <td>83.541204</td>\n",
       "      <td>-5.373961</td>\n",
       "      <td></td>\n",
       "    </tr>\n",
       "    <tr>\n",
       "      <th>10</th>\n",
       "      <td>11</td>\n",
       "      <td>83.542708</td>\n",
       "      <td>-5.364525</td>\n",
       "      <td></td>\n",
       "    </tr>\n",
       "    <tr>\n",
       "      <th>11</th>\n",
       "      <td>12</td>\n",
       "      <td>83.546296</td>\n",
       "      <td>-5.381794</td>\n",
       "      <td></td>\n",
       "    </tr>\n",
       "    <tr>\n",
       "      <th>12</th>\n",
       "      <td>13</td>\n",
       "      <td>83.546446</td>\n",
       "      <td>-5.344578</td>\n",
       "      <td></td>\n",
       "    </tr>\n",
       "    <tr>\n",
       "      <th>13</th>\n",
       "      <td>14</td>\n",
       "      <td>83.548421</td>\n",
       "      <td>-5.369708</td>\n",
       "      <td></td>\n",
       "    </tr>\n",
       "    <tr>\n",
       "      <th>14</th>\n",
       "      <td>15</td>\n",
       "      <td>83.548842</td>\n",
       "      <td>-5.335642</td>\n",
       "      <td></td>\n",
       "    </tr>\n",
       "    <tr>\n",
       "      <th>15</th>\n",
       "      <td>16</td>\n",
       "      <td>83.550067</td>\n",
       "      <td>-5.411064</td>\n",
       "      <td></td>\n",
       "    </tr>\n",
       "    <tr>\n",
       "      <th>16</th>\n",
       "      <td>17</td>\n",
       "      <td>83.550104</td>\n",
       "      <td>-5.405411</td>\n",
       "      <td></td>\n",
       "    </tr>\n",
       "    <tr>\n",
       "      <th>17</th>\n",
       "      <td>18</td>\n",
       "      <td>83.550262</td>\n",
       "      <td>-5.370828</td>\n",
       "      <td></td>\n",
       "    </tr>\n",
       "    <tr>\n",
       "      <th>18</th>\n",
       "      <td>19</td>\n",
       "      <td>83.550942</td>\n",
       "      <td>-5.419003</td>\n",
       "      <td></td>\n",
       "    </tr>\n",
       "  </tbody>\n",
       "</table>\n",
       "</div>"
      ],
      "text/plain": [
       "    id         ra       dec flag\n",
       "0    1  83.562867 -5.383325     \n",
       "1    2  83.568987 -5.382300     \n",
       "2    3  83.571933 -5.376869     \n",
       "3    4  83.572079 -5.379994     \n",
       "4    5  83.593296 -5.374150     \n",
       "5    6  83.576562 -5.381911     \n",
       "6    7  83.586642 -5.391425   d2\n",
       "7    8  83.603204 -5.369567     \n",
       "8    9  83.610421 -5.389997     \n",
       "9   10  83.541204 -5.373961     \n",
       "10  11  83.542708 -5.364525     \n",
       "11  12  83.546296 -5.381794     \n",
       "12  13  83.546446 -5.344578     \n",
       "13  14  83.548421 -5.369708     \n",
       "14  15  83.548842 -5.335642     \n",
       "15  16  83.550067 -5.411064     \n",
       "16  17  83.550104 -5.405411     \n",
       "17  18  83.550262 -5.370828     \n",
       "18  19  83.550942 -5.419003     "
      ]
     },
     "execution_count": 56,
     "metadata": {},
     "output_type": "execute_result"
    }
   ],
   "source": [
    "# Take a look again\n",
    "onc.catalog"
   ]
  },
  {
   "cell_type": "code",
   "execution_count": 57,
   "metadata": {
    "collapsed": false
   },
   "outputs": [],
   "source": [
    "# # Now let's correct the WFPC2 sources for some systematic offset\n",
    "# onc.correct_offsets('WFPC2', truth='ACS')\n",
    "\n",
    "# # And now the corrected data\n",
    "# print('Corrected and original WFPC2 sources:')\n",
    "# print(onc.catalog[onc.catalog['cat_name']=='WFPC2'][['oncID','ra_corr','dec_corr','_RAJ2000','_DEJ2000']])"
   ]
  },
  {
   "cell_type": "code",
   "execution_count": 58,
   "metadata": {
    "collapsed": false
   },
   "outputs": [
    {
     "name": "stdout",
     "output_type": "stream",
     "text": [
      "2018-01-25 15:06:01: Database created\n",
      "2018-01-25 15:06:02: Catalog ACS ingested.\n",
      "2018-01-25 15:06:02: Catalog WFPC2 ingested.\n",
      "2018-01-25 15:06:03: Catalog grouped with radius 0.0001 arcsec.\n"
     ]
    }
   ],
   "source": [
    "onc.info"
   ]
  },
  {
   "cell_type": "markdown",
   "metadata": {},
   "source": [
    "### Step 3: Generate the SQL database"
   ]
  },
  {
   "cell_type": "code",
   "execution_count": 60,
   "metadata": {
    "collapsed": false
   },
   "outputs": [
    {
     "name": "stdout",
     "output_type": "stream",
     "text": [
      "Generating changelog...\n",
      "Generating ignore...\n",
      "Generating modes...\n",
      "Generating systems...\n",
      "Generating publications...\n",
      "Generating instruments...\n",
      "Generating telescopes...\n",
      "Generating versions...\n",
      "Generating sources...\n",
      "Generating photometry...\n",
      "Generating spectral_types...\n",
      "Generating parallaxes...\n",
      "Generating proper_motions...\n",
      "Generating radial_velocities...\n",
      "Generating spectra...\n",
      "Generating images...\n",
      "Tables saved to directory /Users/jfilippazzo/Documents/Modules/ONCdb/tabledata/\n",
      "=======================================================================================\n",
      "You can now run git to commit and push these changes, if needed.\n",
      "For example, if on the master branch you can do the following:\n",
      "  git add /Users/jfilippazzo/Documents/Modules/ONCdb/orion.sql /Users/jfilippazzo/Documents/Modules/ONCdb/tabledata/*.sql\n",
      "  git commit -m \"COMMIT MESSAGE HERE\"\n",
      "  git push origin master\n",
      "You can then issue a pull request on GitHub to have these changes reviewed and accepted\n",
      "=======================================================================================\n"
     ]
    },
    {
     "data": {
      "text/plain": [
       "<astrodbkit.astrodb.Database at 0x1127e1c50>"
      ]
     },
     "execution_count": 60,
     "metadata": {},
     "output_type": "execute_result"
    }
   ],
   "source": [
    "# Generate the ONCdb\n",
    "mo.generate_ONCdb(onc)"
   ]
  },
  {
   "cell_type": "code",
   "execution_count": 62,
   "metadata": {
    "collapsed": false
   },
   "outputs": [
    {
     "name": "stdout",
     "output_type": "stream",
     "text": [
      "Renaming existing file /Users/jfilippazzo/Documents/Modules/ONCdb/orion.db to /Users/jfilippazzo/Documents/Modules/ONCdb/orion2018-01-25_15-07.db\n",
      "Populating database...\n",
      "Loading changelog\n",
      "Loading ignore\n",
      "Loading modes\n",
      "Loading systems\n",
      "Loading publications\n",
      "Loading instruments\n",
      "Loading telescopes\n",
      "Loading versions\n",
      "Loading sources\n",
      "Loading photometry\n",
      "Loading spectral_types\n",
      "Loading parallaxes\n",
      "Loading proper_motions\n",
      "Loading radial_velocities\n",
      "Loading spectra\n",
      "Loading images\n",
      "Database ready for use\n"
     ]
    }
   ],
   "source": [
    "# Check that it worked\n",
    "db = astrodb.Database(DIR_PATH+'/orion.sql')"
   ]
  },
  {
   "cell_type": "code",
   "execution_count": 160,
   "metadata": {
    "collapsed": false
   },
   "outputs": [
    {
     "data": {
      "text/html": [
       "&lt;Table length=19&gt;\n",
       "<table id=\"table4608084400\" class=\"table-striped table-bordered table-condensed\">\n",
       "<thead><tr><th>id</th><th>ra</th><th>dec</th><th>designation</th><th>publication_shortname</th><th>unum</th><th>shortname</th><th>names</th><th>components</th><th>companions</th><th>comments</th><th>version</th><th>spectra</th><th>images</th><th>photometry</th><th>parallaxes</th><th>spectral_types</th></tr></thead>\n",
       "<thead><tr><th>int64</th><th>float64</th><th>float64</th><th>object</th><th>object</th><th>object</th><th>object</th><th>object</th><th>object</th><th>object</th><th>str2</th><th>object</th><th>int64</th><th>int64</th><th>int64</th><th>int64</th><th>int64</th></tr></thead>\n",
       "<tr><td>1</td><td>83.541204</td><td>-5.373961</td><td>None</td><td>None</td><td>None</td><td>None</td><td>None</td><td>None</td><td>None</td><td>o2</td><td>None</td><td>0</td><td>0</td><td>5</td><td>0</td><td>0</td></tr>\n",
       "<tr><td>2</td><td>83.542708</td><td>-5.364525</td><td>None</td><td>None</td><td>None</td><td>None</td><td>None</td><td>None</td><td>None</td><td>o1</td><td>None</td><td>0</td><td>0</td><td>5</td><td>0</td><td>0</td></tr>\n",
       "<tr><td>3</td><td>83.546296</td><td>-5.381794</td><td>None</td><td>None</td><td>None</td><td>None</td><td>None</td><td>None</td><td>None</td><td>o1</td><td>None</td><td>0</td><td>0</td><td>5</td><td>0</td><td>0</td></tr>\n",
       "<tr><td>4</td><td>83.546446</td><td>-5.344578</td><td>None</td><td>None</td><td>None</td><td>None</td><td>None</td><td>None</td><td>None</td><td>o1</td><td>None</td><td>0</td><td>0</td><td>5</td><td>0</td><td>0</td></tr>\n",
       "<tr><td>5</td><td>83.548421</td><td>-5.369708</td><td>None</td><td>None</td><td>None</td><td>None</td><td>None</td><td>None</td><td>None</td><td>o1</td><td>None</td><td>0</td><td>0</td><td>5</td><td>0</td><td>0</td></tr>\n",
       "<tr><td>6</td><td>83.548842</td><td>-5.335642</td><td>None</td><td>None</td><td>None</td><td>None</td><td>None</td><td>None</td><td>None</td><td>o1</td><td>None</td><td>0</td><td>0</td><td>5</td><td>0</td><td>0</td></tr>\n",
       "<tr><td>7</td><td>83.550067</td><td>-5.411064</td><td>None</td><td>None</td><td>None</td><td>None</td><td>None</td><td>None</td><td>None</td><td>o1</td><td>None</td><td>0</td><td>0</td><td>5</td><td>0</td><td>0</td></tr>\n",
       "<tr><td>8</td><td>83.550104</td><td>-5.405411</td><td>None</td><td>None</td><td>None</td><td>None</td><td>None</td><td>None</td><td>None</td><td>o1</td><td>None</td><td>0</td><td>0</td><td>5</td><td>0</td><td>0</td></tr>\n",
       "<tr><td>9</td><td>83.550262</td><td>-5.370828</td><td>None</td><td>None</td><td>None</td><td>None</td><td>None</td><td>None</td><td>None</td><td>o1</td><td>None</td><td>0</td><td>0</td><td>5</td><td>0</td><td>0</td></tr>\n",
       "<tr><td>10</td><td>83.550942</td><td>-5.419003</td><td>None</td><td>None</td><td>None</td><td>None</td><td>None</td><td>None</td><td>None</td><td>o1</td><td>None</td><td>0</td><td>0</td><td>5</td><td>0</td><td>0</td></tr>\n",
       "<tr><td>11</td><td>83.598709</td><td>-5.383325</td><td>None</td><td>None</td><td>None</td><td>None</td><td>None</td><td>None</td><td>None</td><td>1</td><td>None</td><td>0</td><td>0</td><td>0</td><td>0</td><td>0</td></tr>\n",
       "<tr><td>12</td><td>83.577056</td><td>-5.373961</td><td>None</td><td>None</td><td>None</td><td>None</td><td>None</td><td>None</td><td>None</td><td>o2</td><td>None</td><td>0</td><td>0</td><td>0</td><td>0</td><td>0</td></tr>\n",
       "<tr><td>13</td><td>83.607775</td><td>-5.376869</td><td>None</td><td>None</td><td>None</td><td>None</td><td>None</td><td>None</td><td>None</td><td>1</td><td>None</td><td>0</td><td>0</td><td>0</td><td>0</td><td>0</td></tr>\n",
       "<tr><td>14</td><td>83.607921</td><td>-5.379994</td><td>None</td><td>None</td><td>None</td><td>None</td><td>None</td><td>None</td><td>None</td><td>1</td><td>None</td><td>0</td><td>0</td><td>0</td><td>0</td><td>0</td></tr>\n",
       "<tr><td>15</td><td>83.629138</td><td>-5.37415</td><td>None</td><td>None</td><td>None</td><td>None</td><td>None</td><td>None</td><td>None</td><td>1</td><td>None</td><td>0</td><td>0</td><td>0</td><td>0</td><td>0</td></tr>\n",
       "<tr><td>16</td><td>83.612404</td><td>-5.381911</td><td>None</td><td>None</td><td>None</td><td>None</td><td>None</td><td>None</td><td>None</td><td>1</td><td>None</td><td>0</td><td>0</td><td>0</td><td>0</td><td>0</td></tr>\n",
       "<tr><td>17</td><td>83.622484</td><td>-5.391425</td><td>None</td><td>None</td><td>None</td><td>None</td><td>None</td><td>None</td><td>None</td><td>1</td><td>None</td><td>0</td><td>0</td><td>0</td><td>0</td><td>0</td></tr>\n",
       "<tr><td>18</td><td>83.639046</td><td>-5.369567</td><td>None</td><td>None</td><td>None</td><td>None</td><td>None</td><td>None</td><td>None</td><td>1</td><td>None</td><td>0</td><td>0</td><td>0</td><td>0</td><td>0</td></tr>\n",
       "<tr><td>19</td><td>83.646263</td><td>-5.389997</td><td>None</td><td>None</td><td>None</td><td>None</td><td>None</td><td>None</td><td>None</td><td>1</td><td>None</td><td>0</td><td>0</td><td>0</td><td>0</td><td>0</td></tr>\n",
       "</table>"
      ],
      "text/plain": [
       "<Table length=19>\n",
       "  id      ra       dec    designation ... photometry parallaxes spectral_types\n",
       "int64  float64   float64     object   ...   int64      int64        int64     \n",
       "----- --------- --------- ----------- ... ---------- ---------- --------------\n",
       "    1 83.541204 -5.373961        None ...          5          0              0\n",
       "    2 83.542708 -5.364525        None ...          5          0              0\n",
       "    3 83.546296 -5.381794        None ...          5          0              0\n",
       "    4 83.546446 -5.344578        None ...          5          0              0\n",
       "    5 83.548421 -5.369708        None ...          5          0              0\n",
       "    6 83.548842 -5.335642        None ...          5          0              0\n",
       "    7 83.550067 -5.411064        None ...          5          0              0\n",
       "    8 83.550104 -5.405411        None ...          5          0              0\n",
       "    9 83.550262 -5.370828        None ...          5          0              0\n",
       "   10 83.550942 -5.419003        None ...          5          0              0\n",
       "   11 83.598709 -5.383325        None ...          0          0              0\n",
       "   12 83.577056 -5.373961        None ...          0          0              0\n",
       "   13 83.607775 -5.376869        None ...          0          0              0\n",
       "   14 83.607921 -5.379994        None ...          0          0              0\n",
       "   15 83.629138  -5.37415        None ...          0          0              0\n",
       "   16 83.612404 -5.381911        None ...          0          0              0\n",
       "   17 83.622484 -5.391425        None ...          0          0              0\n",
       "   18 83.639046 -5.369567        None ...          0          0              0\n",
       "   19 83.646263 -5.389997        None ...          0          0              0"
      ]
     },
     "execution_count": 160,
     "metadata": {},
     "output_type": "execute_result"
    }
   ],
   "source": [
    "db.query(\"SELECT * FROM browse\", fmt='table')"
   ]
  },
  {
   "cell_type": "markdown",
   "metadata": {},
   "source": [
    "Hooray!"
   ]
  }
 ],
 "metadata": {
  "anaconda-cloud": {},
  "kernelspec": {
   "display_name": "Astroconda",
   "language": "python",
   "name": "astroconda_kernel"
  },
  "language_info": {
   "codemirror_mode": {
    "name": "ipython",
    "version": 3
   },
   "file_extension": ".py",
   "mimetype": "text/x-python",
   "name": "python",
   "nbconvert_exporter": "python",
   "pygments_lexer": "ipython3",
   "version": "3.5.2"
  }
 },
 "nbformat": 4,
 "nbformat_minor": 1
}
